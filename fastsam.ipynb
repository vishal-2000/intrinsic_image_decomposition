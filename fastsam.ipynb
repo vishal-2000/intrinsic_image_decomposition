{
 "cells": [
  {
   "cell_type": "markdown",
   "metadata": {},
   "source": [
    "# FastSAM"
   ]
  },
  {
   "cell_type": "code",
   "execution_count": 69,
   "metadata": {},
   "outputs": [],
   "source": [
    "import numpy as np\n",
    "model_path = '/home/vishal/Volume_E/Active/Gap_year/research/3d_manipulation/codes/intrinsic_image_decomposition/FastSAM/weights/FastSAM-s.pt'\n",
    "img_path = '/home/vishal/Volume_E/Active/Gap_year/research/3d_manipulation/codes/intrinsic_image_decomposition/test_images/3.jpeg'\n",
    "img_path = '/home/vishal/Volume_E/Active/Gap_year/research/3d_manipulation/codes/intrinsic_image_decomposition/test_images/drawer2.jpg'\n",
    "# bbox_prompt = [[110, 155, 130, 180]]\n",
    "bbox_prompt = np.round(np.array([\n",
    "    [176.14-2, 160.6-2, 194.09+2, 179.04+2],\n",
    "    [60.77-2, 168.81-2, 76.15+2, 186.3+2],\n",
    "    [74.76-2, 189.06-2, 92.14+2, 210.0+2],\n",
    "    [171.51-2, 213.61+2, 189.29+2, 236.14-2]\n",
    "])).tolist()"
   ]
  },
  {
   "cell_type": "code",
   "execution_count": 70,
   "metadata": {},
   "outputs": [],
   "source": [
    "import sys\n",
    "import os\n",
    "import ast\n",
    "import torch\n",
    "from PIL import Image\n",
    "\n",
    "sys.path.append('/home/vishal/Volume_E/Active/Gap_year/research/3d_manipulation/codes/intrinsic_image_decomposition/FastSAM')\n",
    "\n",
    "from fastsam import FastSAM, FastSAMPrompt \n",
    "from utils.tools import convert_box_xywh_to_xyxy"
   ]
  },
  {
   "cell_type": "code",
   "execution_count": 60,
   "metadata": {},
   "outputs": [
    {
     "name": "stderr",
     "output_type": "stream",
     "text": [
      "/home/vishal/Volume_E/Active/Gap_year/research/3d_manipulation/codes/intrinsic_image_decomposition/FastSAM/ultralytics/nn/tasks.py:518: FutureWarning: You are using `torch.load` with `weights_only=False` (the current default value), which uses the default pickle module implicitly. It is possible to construct malicious pickle data which will execute arbitrary code during unpickling (See https://github.com/pytorch/pytorch/blob/main/SECURITY.md#untrusted-models for more details). In a future release, the default value for `weights_only` will be flipped to `True`. This limits the functions that could be executed during unpickling. Arbitrary objects will no longer be allowed to be loaded via this mode unless they are explicitly allowlisted by the user via `torch.serialization.add_safe_globals`. We recommend you start setting `weights_only=True` for any use case where you don't have full control of the loaded file. Please open an issue on GitHub for any issues related to this experimental feature.\n",
      "  return torch.load(file, map_location='cpu'), file  # load\n"
     ]
    }
   ],
   "source": [
    "model = FastSAM(model_path)"
   ]
  },
  {
   "cell_type": "code",
   "execution_count": 71,
   "metadata": {},
   "outputs": [
    {
     "data": {
      "text/plain": [
       "(1080, 810, 3)"
      ]
     },
     "execution_count": 71,
     "metadata": {},
     "output_type": "execute_result"
    }
   ],
   "source": [
    "input = Image.open(img_path)\n",
    "input = input.convert(\"RGB\")\n",
    "import numpy as np\n",
    "np.array(input).shape"
   ]
  },
  {
   "cell_type": "code",
   "execution_count": 72,
   "metadata": {},
   "outputs": [
    {
     "name": "stderr",
     "output_type": "stream",
     "text": [
      "\n",
      "0: 256x192 18 objects, 56.2ms\n",
      "Speed: 1.7ms preprocess, 56.2ms inference, 11.5ms postprocess per image at shape (1, 3, 256, 256)\n"
     ]
    }
   ],
   "source": [
    "everything_results = model(\n",
    "        input,\n",
    "        device='cuda',\n",
    "        retina_masks=True, # For drawing high resolution segmentation masks\n",
    "        imgsz=256, # Image size (on terminal, it directly worked with 1024. Therefore, try with both 256 and 1024)\n",
    "        conf=0.4, # Object confidence threshold; default - 0.4\n",
    "        iou=0.9 # IOU thresholding for filtering annotations    \n",
    "        )"
   ]
  },
  {
   "cell_type": "code",
   "execution_count": 73,
   "metadata": {},
   "outputs": [
    {
     "name": "stderr",
     "output_type": "stream",
     "text": [
      "\n",
      "0: 1024x768 38 objects, 59.1ms\n",
      "Speed: 4.6ms preprocess, 59.1ms inference, 17.8ms postprocess per image at shape (1, 3, 1024, 1024)\n"
     ]
    }
   ],
   "source": [
    "everything_results_1024 = model(\n",
    "        input,\n",
    "        device='cuda',\n",
    "        retina_masks=True, # For drawing high resolution segmentation masks\n",
    "        imgsz=1024, # Image size (on terminal, it directly worked with 1024. Therefore, try with both 256 and 1024)\n",
    "        conf=0.4, # Object confidence threshold; default - 0.4\n",
    "        iou=0.9 # IOU thresholding for filtering annotations    \n",
    "        )"
   ]
  },
  {
   "cell_type": "code",
   "execution_count": 74,
   "metadata": {},
   "outputs": [
    {
     "data": {
      "text/plain": [
       "tensor([[[0., 0., 0.,  ..., 0., 0., 0.],\n",
       "         [0., 0., 0.,  ..., 0., 0., 0.],\n",
       "         [0., 0., 0.,  ..., 0., 0., 0.],\n",
       "         ...,\n",
       "         [0., 0., 0.,  ..., 0., 0., 0.],\n",
       "         [0., 0., 0.,  ..., 0., 0., 0.],\n",
       "         [0., 0., 0.,  ..., 0., 0., 0.]],\n",
       "\n",
       "        [[0., 0., 0.,  ..., 0., 0., 0.],\n",
       "         [0., 0., 0.,  ..., 0., 0., 0.],\n",
       "         [0., 0., 0.,  ..., 0., 0., 0.],\n",
       "         ...,\n",
       "         [0., 0., 0.,  ..., 0., 0., 0.],\n",
       "         [0., 0., 0.,  ..., 0., 0., 0.],\n",
       "         [0., 0., 0.,  ..., 0., 0., 0.]],\n",
       "\n",
       "        [[0., 0., 0.,  ..., 0., 0., 0.],\n",
       "         [0., 0., 0.,  ..., 0., 0., 0.],\n",
       "         [0., 0., 0.,  ..., 0., 0., 0.],\n",
       "         ...,\n",
       "         [0., 0., 0.,  ..., 0., 0., 0.],\n",
       "         [0., 0., 0.,  ..., 0., 0., 0.],\n",
       "         [0., 0., 0.,  ..., 0., 0., 0.]],\n",
       "\n",
       "        ...,\n",
       "\n",
       "        [[0., 0., 0.,  ..., 0., 0., 0.],\n",
       "         [0., 0., 0.,  ..., 0., 0., 0.],\n",
       "         [0., 0., 0.,  ..., 0., 0., 0.],\n",
       "         ...,\n",
       "         [0., 0., 0.,  ..., 0., 0., 0.],\n",
       "         [0., 0., 0.,  ..., 0., 0., 0.],\n",
       "         [0., 0., 0.,  ..., 0., 0., 0.]],\n",
       "\n",
       "        [[0., 0., 0.,  ..., 1., 1., 1.],\n",
       "         [0., 0., 0.,  ..., 1., 1., 1.],\n",
       "         [0., 0., 0.,  ..., 1., 1., 1.],\n",
       "         ...,\n",
       "         [0., 0., 0.,  ..., 0., 0., 0.],\n",
       "         [0., 0., 0.,  ..., 0., 0., 0.],\n",
       "         [0., 0., 0.,  ..., 0., 0., 0.]],\n",
       "\n",
       "        [[0., 0., 0.,  ..., 0., 0., 0.],\n",
       "         [0., 0., 0.,  ..., 0., 0., 0.],\n",
       "         [0., 0., 0.,  ..., 0., 0., 0.],\n",
       "         ...,\n",
       "         [0., 0., 0.,  ..., 0., 0., 0.],\n",
       "         [0., 0., 0.,  ..., 0., 0., 0.],\n",
       "         [0., 0., 0.,  ..., 0., 0., 0.]]], device='cuda:0')"
      ]
     },
     "execution_count": 74,
     "metadata": {},
     "output_type": "execute_result"
    }
   ],
   "source": [
    "prompt_process = FastSAMPrompt(input, everything_results_1024, 'cudaSeg')\n",
    "prompt_process.everything_prompt()"
   ]
  },
  {
   "cell_type": "code",
   "execution_count": 64,
   "metadata": {},
   "outputs": [],
   "source": [
    "prompt_process = FastSAMPrompt(input, everything_results, 'cudaSeg')\n",
    "ann = prompt_process.box_prompt(bboxes=bbox_prompt)\n",
    "bboxes = bbox_prompt\n"
   ]
  },
  {
   "cell_type": "code",
   "execution_count": 76,
   "metadata": {},
   "outputs": [],
   "source": [
    "prompt_process.plot(\n",
    "        annotations=ann,\n",
    "        output_path='/home/vishal/Volume_E/Active/Gap_year/research/3d_manipulation/codes/intrinsic_image_decomposition/results/fastsam/drawer2_1024.jpg',\n",
    "        bboxes = None,\n",
    "        points = None,\n",
    "        point_label = None,\n",
    "        withContours=True,\n",
    "        better_quality=True,\n",
    "    )"
   ]
  },
  {
   "cell_type": "code",
   "execution_count": 50,
   "metadata": {},
   "outputs": [],
   "source": [
    "prompt_process.plot(\n",
    "        annotations=ann,\n",
    "        output_path='/home/vishal/Volume_E/Active/Gap_year/research/3d_manipulation/codes/intrinsic_image_decomposition/results/fastsam/3.jpeg',\n",
    "        bboxes = bboxes,\n",
    "        points = None,\n",
    "        point_label = None,\n",
    "        withContours=False,\n",
    "        better_quality=True,\n",
    "    )"
   ]
  },
  {
   "cell_type": "code",
   "execution_count": 56,
   "metadata": {},
   "outputs": [
    {
     "name": "stdout",
     "output_type": "stream",
     "text": [
      "(4, 256, 256)\n",
      "(256, 256) 0.0 1.0\n"
     ]
    }
   ],
   "source": [
    "# type(ann)\n",
    "print(ann.shape) # instance wise mask\n",
    "net_ann = ann.sum(axis=0)\n",
    "print(net_ann.shape, net_ann.min(), net_ann.max())"
   ]
  },
  {
   "cell_type": "code",
   "execution_count": 53,
   "metadata": {},
   "outputs": [],
   "source": [
    "np.save('/home/vishal/Volume_E/Active/Gap_year/research/3d_manipulation/codes/intrinsic_image_decomposition/results/fastsam/3_seg.npy', ann)"
   ]
  },
  {
   "cell_type": "code",
   "execution_count": 57,
   "metadata": {},
   "outputs": [
    {
     "data": {
      "text/plain": [
       "True"
      ]
     },
     "execution_count": 57,
     "metadata": {},
     "output_type": "execute_result"
    }
   ],
   "source": [
    "import cv2\n",
    "cv2.imwrite('/home/vishal/Volume_E/Active/Gap_year/research/3d_manipulation/codes/intrinsic_image_decomposition/results/fastsam/3_seg.png', net_ann*255)"
   ]
  },
  {
   "cell_type": "code",
   "execution_count": null,
   "metadata": {},
   "outputs": [],
   "source": []
  }
 ],
 "metadata": {
  "kernelspec": {
   "display_name": "iidecomp",
   "language": "python",
   "name": "python3"
  },
  "language_info": {
   "codemirror_mode": {
    "name": "ipython",
    "version": 3
   },
   "file_extension": ".py",
   "mimetype": "text/x-python",
   "name": "python",
   "nbconvert_exporter": "python",
   "pygments_lexer": "ipython3",
   "version": "3.8.19"
  }
 },
 "nbformat": 4,
 "nbformat_minor": 2
}
