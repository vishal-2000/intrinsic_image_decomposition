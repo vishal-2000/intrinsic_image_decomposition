{
 "cells": [
  {
   "cell_type": "markdown",
   "metadata": {},
   "source": [
    "# Owl ViT2 + FastSAM"
   ]
  },
  {
   "cell_type": "code",
   "execution_count": 1,
   "metadata": {},
   "outputs": [],
   "source": [
    "model_path = '/home/vishal/Volume_E/Active/Gap_year/research/3d_manipulation/codes/intrinsic_image_decomposition/FastSAM/weights/FastSAM-s.pt'\n",
    "img_path = '/home/vishal/Volume_E/Active/Gap_year/research/3d_manipulation/codes/intrinsic_image_decomposition/test_images/1.jpeg'"
   ]
  },
  {
   "cell_type": "code",
   "execution_count": 4,
   "metadata": {},
   "outputs": [],
   "source": [
    "import sys\n",
    "import os\n",
    "import ast\n",
    "import torch\n",
    "from PIL import Image\n",
    "\n",
    "sys.path.append('/home/vishal/Volume_E/Active/Gap_year/research/3d_manipulation/codes/intrinsic_image_decomposition/FastSAM')\n",
    "\n",
    "from fastsam import FastSAM, FastSAMPrompt \n",
    "from utils.tools import convert_box_xywh_to_xyxy"
   ]
  },
  {
   "cell_type": "code",
   "execution_count": 5,
   "metadata": {},
   "outputs": [
    {
     "name": "stderr",
     "output_type": "stream",
     "text": [
      "/home/vishal/Volume_E/Active/Gap_year/research/3d_manipulation/codes/intrinsic_image_decomposition/FastSAM/ultralytics/nn/tasks.py:518: FutureWarning: You are using `torch.load` with `weights_only=False` (the current default value), which uses the default pickle module implicitly. It is possible to construct malicious pickle data which will execute arbitrary code during unpickling (See https://github.com/pytorch/pytorch/blob/main/SECURITY.md#untrusted-models for more details). In a future release, the default value for `weights_only` will be flipped to `True`. This limits the functions that could be executed during unpickling. Arbitrary objects will no longer be allowed to be loaded via this mode unless they are explicitly allowlisted by the user via `torch.serialization.add_safe_globals`. We recommend you start setting `weights_only=True` for any use case where you don't have full control of the loaded file. Please open an issue on GitHub for any issues related to this experimental feature.\n",
      "  return torch.load(file, map_location='cpu'), file  # load\n"
     ]
    }
   ],
   "source": [
    "model = FastSAM(model_path)\n",
    "input = Image.open(img_path)\n",
    "input = input.convert(\"RGB\")"
   ]
  },
  {
   "cell_type": "code",
   "execution_count": 8,
   "metadata": {},
   "outputs": [
    {
     "data": {
      "text/plain": [
       "(256, 256, 3)"
      ]
     },
     "execution_count": 8,
     "metadata": {},
     "output_type": "execute_result"
    }
   ],
   "source": [
    "import numpy as np\n",
    "np.array(input).shape"
   ]
  },
  {
   "cell_type": "code",
   "execution_count": 9,
   "metadata": {},
   "outputs": [
    {
     "name": "stderr",
     "output_type": "stream",
     "text": [
      "\n",
      "0: 256x256 18 objects, 10.9ms\n",
      "Speed: 2.4ms preprocess, 10.9ms inference, 376.7ms postprocess per image at shape (1, 3, 256, 256)\n"
     ]
    }
   ],
   "source": [
    "everything_results = model(\n",
    "        input,\n",
    "        device='cuda',\n",
    "        retina_masks=True, # For drawing high resolution segmentation masks\n",
    "        imgsz=256, # Image size (on terminal, it directly worked with 1024. Therefore, try with both 256 and 1024)\n",
    "        conf=0.4, # Object confidence threshold; default - 0.4\n",
    "        iou=0.9 # IOU thresholding for filtering annotations    \n",
    "        )"
   ]
  },
  {
   "cell_type": "code",
   "execution_count": 10,
   "metadata": {},
   "outputs": [
    {
     "name": "stderr",
     "output_type": "stream",
     "text": [
      "\n",
      "0: 1024x1024 80 objects, 74.3ms\n",
      "Speed: 7.6ms preprocess, 74.3ms inference, 5.2ms postprocess per image at shape (1, 3, 1024, 1024)\n"
     ]
    }
   ],
   "source": [
    "everything_results_1024 = model(\n",
    "        input,\n",
    "        device='cuda',\n",
    "        retina_masks=True, # For drawing high resolution segmentation masks\n",
    "        imgsz=1024, # Image size (on terminal, it directly worked with 1024. Therefore, try with both 256 and 1024)\n",
    "        conf=0.4, # Object confidence threshold; default - 0.4\n",
    "        iou=0.9 # IOU thresholding for filtering annotations    \n",
    "        )"
   ]
  },
  {
   "cell_type": "code",
   "execution_count": null,
   "metadata": {},
   "outputs": [],
   "source": [
    "prompt_process = FastSAMPrompt(input, everything_results, 'cudaSeg')"
   ]
  }
 ],
 "metadata": {
  "kernelspec": {
   "display_name": "iidecomp",
   "language": "python",
   "name": "python3"
  },
  "language_info": {
   "codemirror_mode": {
    "name": "ipython",
    "version": 3
   },
   "file_extension": ".py",
   "mimetype": "text/x-python",
   "name": "python",
   "nbconvert_exporter": "python",
   "pygments_lexer": "ipython3",
   "version": "3.8.19"
  }
 },
 "nbformat": 4,
 "nbformat_minor": 2
}
