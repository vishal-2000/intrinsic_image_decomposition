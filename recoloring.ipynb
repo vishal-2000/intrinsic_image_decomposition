{
 "cells": [
  {
   "cell_type": "code",
   "execution_count": 1,
   "metadata": {},
   "outputs": [
    {
     "name": "stderr",
     "output_type": "stream",
     "text": [
      "/home/vishal/anaconda3/envs/iidecomp/lib/python3.8/site-packages/tqdm/auto.py:21: TqdmWarning: IProgress not found. Please update jupyter and ipywidgets. See https://ipywidgets.readthedocs.io/en/stable/user_install.html\n",
      "  from .autonotebook import tqdm as notebook_tqdm\n"
     ]
    }
   ],
   "source": [
    "import torch\n",
    "\n",
    "# import some helper functions from chrislib (will be installed by the intrinsic repo)\n",
    "from chrislib.general import show, view, uninvert, match_scale\n",
    "from chrislib.data_util import load_image\n",
    "\n",
    "# import model loading and running the pipeline\n",
    "from intrinsic.pipeline import run_pipeline\n",
    "from intrinsic.model_util import load_models"
   ]
  },
  {
   "cell_type": "code",
   "execution_count": 2,
   "metadata": {},
   "outputs": [
    {
     "name": "stderr",
     "output_type": "stream",
     "text": [
      "Using cache found in /home/vishal/.cache/torch/hub/facebookresearch_WSL-Images_main\n",
      "Using cache found in /home/vishal/.cache/torch/hub/rwightman_gen-efficientnet-pytorch_master\n"
     ]
    }
   ],
   "source": [
    "intrinsic_model = load_models('paper_weights')"
   ]
  },
  {
   "cell_type": "code",
   "execution_count": null,
   "metadata": {},
   "outputs": [],
   "source": [
    "inp = load_image(f'Intrinsic/examples/{scene_name}/input.png')[:, :, :3]\n",
    "msk = load_image(f'Intrinsic/examples/{scene_name}/mask.png')[:, :, :3]\n",
    "tex = load_image(f'Intrinsic/examples/{scene_name}/texture.png')[:, :, :3] ** 2.2"
   ]
  }
 ],
 "metadata": {
  "kernelspec": {
   "display_name": "iidecomp",
   "language": "python",
   "name": "python3"
  },
  "language_info": {
   "codemirror_mode": {
    "name": "ipython",
    "version": 3
   },
   "file_extension": ".py",
   "mimetype": "text/x-python",
   "name": "python",
   "nbconvert_exporter": "python",
   "pygments_lexer": "ipython3",
   "version": "3.8.19"
  }
 },
 "nbformat": 4,
 "nbformat_minor": 2
}
